{
 "cells": [
  {
   "cell_type": "markdown",
   "id": "3b68dffa",
   "metadata": {},
   "source": [
    "# CIFAR-10\n"
   ]
  },
  {
   "cell_type": "code",
   "execution_count": 1,
   "id": "2135f158",
   "metadata": {},
   "outputs": [],
   "source": [
    "import torch\n",
    "from torchvision import datasets\n",
    "\n",
    "\n",
    "# 데이터 불러오기: torchvision 패키지에서 cifar10의 train data 와 test data를 불러옴\n",
    "def load_data(dataset, dataset_path):\n",
    "    train_dataset = None\n",
    "    test_dataset = None\n",
    "\n",
    "    if dataset == \"CIFAR10\":\n",
    "        train_dataset = datasets.CIFAR10(\n",
    "            dataset_path,  # 해당 데이터 셋의 path\n",
    "            download=True,  # 해당 데이터셋을 다운 받을 것인지\n",
    "            train=True,\n",
    "        )  # 학습 용도로 사용될 것인지\n",
    "        train_dataset.data = torch.tensor(\n",
    "            train_dataset.data\n",
    "        )  # numpy array 형태를 torch tensor로 변경\n",
    "        train_dataset.data = torch.permute(\n",
    "            train_dataset.data, dims=(0, 3, 1, 2)\n",
    "        )  # (B,H,W,C) -> (B,C,H,W) 형태로 변경\n",
    "        train_dataset.targets = torch.tensor(train_dataset.targets)\n",
    "\n",
    "        test_dataset = datasets.CIFAR10(dataset_path, download=False, train=False)\n",
    "        test_dataset.data = torch.tensor(test_dataset.data)\n",
    "        test_dataset.data = torch.permute(test_dataset.data, dims=(0, 3, 1, 2))\n",
    "        test_dataset.targets = torch.tensor(test_dataset.targets)\n",
    "\n",
    "    else:\n",
    "        print(\"Incorrect dataset!\")\n",
    "    return train_dataset, test_dataset"
   ]
  },
  {
   "cell_type": "code",
   "execution_count": null,
   "id": "201485ec",
   "metadata": {},
   "outputs": [],
   "source": [
    "# Input Preprocess: Model이 학습할 수 있도록 input으로 들어가는 train data를 수정함\n",
    "def input_preprocess(x, train_mode=True):\n",
    "    x = x / 255.0  # MinmaxScaler : input data 를 0~1사이의 float로 바꿔주기\n",
    "    if train_mode:\n",
    "        half = int(x.shape[0] / 2)  # 미니배치 개수의 반\n",
    "        x[0:half, :] = torch.flip(x[0:half, :], dims=[3])  # (B,C,H,W)의 W를 반전\n",
    "\n",
    "    return x"
   ]
  },
  {
   "cell_type": "code",
   "execution_count": null,
   "id": "3a752e1c",
   "metadata": {},
   "outputs": [],
   "source": [
    "def onehot_encoding(y, n_class):\n",
    "    out = torch.zeros(\n",
    "        len(y), n_class\n",
    "    )  # 전체 클래스 수 만큼 원소를 갖는 zero vector 들을 생성\n",
    "    for i in range(len(y)):  # 미니배치 수(y의 길이) 만큼 반복\n",
    "        out[i, y[i]] = 1  # target index를 1로 채워두기\n",
    "    y = out.float()  # 추후 연산을 위해서 dtype을 float으로 변환\n",
    "    return y"
   ]
  },
  {
   "cell_type": "markdown",
   "id": "b76f9cf9",
   "metadata": {},
   "source": [
    "# OpenCV에서 이미지 불러오기\n"
   ]
  },
  {
   "cell_type": "code",
   "execution_count": null,
   "id": "b95d7493",
   "metadata": {},
   "outputs": [],
   "source": [
    "import cv2\n",
    "\n",
    "input_image = cv2.imread(\"image.png\")\n",
    "input_image = cv2.cvtColor(input_image, cv2.COLOR_BGR2RGB)  # BGR -> RGB\n",
    "input_image = torch.Tensor(input_image)  # Numpy array를 torch Tensor로 변환\n",
    "input_image = torch.permute(input_image, (2, 0, 1))  # (H,W,C) -> (C,H,W)\n",
    "input_image = torch.unsqueeze(input_image, 0)  # (C, H, W) -> (1, C, H, W)"
   ]
  }
 ],
 "metadata": {
  "kernelspec": {
   "display_name": "torch-study (3.12.10)",
   "language": "python",
   "name": "python3"
  },
  "language_info": {
   "codemirror_mode": {
    "name": "ipython",
    "version": 3
   },
   "file_extension": ".py",
   "mimetype": "text/x-python",
   "name": "python",
   "nbconvert_exporter": "python",
   "pygments_lexer": "ipython3",
   "version": "3.12.10"
  }
 },
 "nbformat": 4,
 "nbformat_minor": 5
}
