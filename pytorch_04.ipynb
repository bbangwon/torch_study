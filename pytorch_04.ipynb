{
 "cells": [
  {
   "cell_type": "code",
   "execution_count": null,
   "id": "73807ca7",
   "metadata": {},
   "outputs": [],
   "source": [
    "import torch\n",
    "import torch.nn as nn\n",
    "import torch.nn.functional as F"
   ]
  },
  {
   "cell_type": "code",
   "execution_count": null,
   "id": "da2e1afb",
   "metadata": {},
   "outputs": [],
   "source": [
    "def input_preprocess(x, hflip=True):\n",
    "    x = x.float()  # input data (integer 0 ~ 255)\n",
    "    x = x / 255.0  # 0~1사이의 float로 바꿔주기\n",
    "    if hflip:\n",
    "        half = int(x.shape[0] / 2)  # mini-batch의 절반의 크기를 계산\n",
    "        x[0:half, :] = torch.flip(\n",
    "            x[0:half, :], dims=[2]\n",
    "        )  # 앞에서부터 절반까지는 수평뒤집기(좌우반전)\n",
    "\n",
    "    x = torch.permute(x, dims=[0, 3, 1, 2])  # 차원의 순서를 바꿔주기 B,H,W,C -> B,C,H,W\n",
    "    return x"
   ]
  },
  {
   "cell_type": "code",
   "execution_count": null,
   "id": "476b2e18",
   "metadata": {},
   "outputs": [],
   "source": [
    "class Net(nn.Module):\n",
    "    def __init__(self):\n",
    "        super(Net, self).__init__()\n",
    "        self.conv1 = nn.Conv2d(\n",
    "            in_channels=3, out_channels=32, kernel_size=(3, 3), padding=0, stride=(1, 1)\n",
    "        )\n",
    "        self.conv2 = nn.Conv2d(32, 64, (4, 4))\n",
    "        self.dropout = nn.Dropout(0.5)\n",
    "        self.fc1 = nn.Linear(64 * 6 * 6, 10)\n",
    "\n",
    "    def forward(self, x):  # 3x32x32\n",
    "        x = self.conv1(x)  # 32x30x30\n",
    "        x = F.relu(x)\n",
    "        x = F.max_pool2d(x, 2)  # 32x15x15\n",
    "\n",
    "        x = self.conv2(x)  # 64x12x12\n",
    "        x = F.relu(x)\n",
    "        x = F.max_pool2d(x, 2)  # 64x6x6\n",
    "\n",
    "        x = torch.flatten(\n",
    "            x, start_dim=1\n",
    "        )  # Fully Connected Layer를 통과할 수 있도록 쭉 펼침\n",
    "        x = self.dropout(x)\n",
    "        x = self.fc1(x)\n",
    "\n",
    "        return x\n"
   ]
  }
 ],
 "metadata": {
  "language_info": {
   "name": "python"
  }
 },
 "nbformat": 4,
 "nbformat_minor": 5
}
