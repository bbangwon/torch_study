{
 "cells": [
  {
   "cell_type": "markdown",
   "id": "5827c7f6",
   "metadata": {},
   "source": [
    "# MLP Model\n"
   ]
  },
  {
   "cell_type": "code",
   "execution_count": 1,
   "id": "726a4791",
   "metadata": {},
   "outputs": [],
   "source": [
    "import torch"
   ]
  },
  {
   "cell_type": "code",
   "execution_count": 1,
   "id": "a27544cf",
   "metadata": {},
   "outputs": [],
   "source": [
    "def softmax(z):\n",
    "    z_exp = torch.exp(z)\n",
    "    z_exp_sum = torch.sum(z_exp, dim=1) + 1e-8  # softmax 분모\n",
    "    a = z_exp / z_exp_sum.unsqueeze(dim=1)\n",
    "    return a"
   ]
  },
  {
   "cell_type": "code",
   "execution_count": 2,
   "id": "b9ab18b3",
   "metadata": {},
   "outputs": [],
   "source": [
    "def cross_entropy(y_hat, y):\n",
    "    loss = torch.sum(-y * torch.log(y_hat), dim=1)\n",
    "    loss = loss.mean()\n",
    "    return loss"
   ]
  }
 ],
 "metadata": {
  "kernelspec": {
   "display_name": "torch_study",
   "language": "python",
   "name": "python3"
  },
  "language_info": {
   "codemirror_mode": {
    "name": "ipython",
    "version": 3
   },
   "file_extension": ".py",
   "mimetype": "text/x-python",
   "name": "python",
   "nbconvert_exporter": "python",
   "pygments_lexer": "ipython3",
   "version": "3.12.10"
  }
 },
 "nbformat": 4,
 "nbformat_minor": 5
}
